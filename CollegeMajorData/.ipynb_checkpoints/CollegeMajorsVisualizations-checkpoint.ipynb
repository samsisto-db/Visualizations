{
 "cells": [
  {
   "cell_type": "code",
   "execution_count": 1,
   "metadata": {
    "collapsed": true
   },
   "outputs": [],
   "source": [
    "import pandas as pd\n",
    "import matplotlib.pyplot as plt\n",
    "import seaborn as sns\n",
    "import numpy as np\n",
    "%matplotlib inline"
   ]
  },
  {
   "cell_type": "code",
   "execution_count": 4,
   "metadata": {
    "collapsed": true
   },
   "outputs": [],
   "source": [
    "majors_list = pd.read_csv('majors-list.csv')\n",
    "all_ages = pd.read_csv('all-ages.csv')\n",
    "grad_students = pd.read_csv('grad-students.csv')\n",
    "women_stem = pd.read_csv('women-stem.csv')\n",
    "recent_grads = pd.read_csv('recent-grads.csv')"
   ]
  },
  {
   "cell_type": "code",
   "execution_count": 23,
   "metadata": {},
   "outputs": [
    {
     "data": {
      "text/plain": [
       "Engineering                            29\n",
       "Education                              16\n",
       "Humanities & Liberal Arts              15\n",
       "Biology & Life Science                 14\n",
       "Business                               13\n",
       "Health                                 12\n",
       "Computers & Mathematics                11\n",
       "Physical Sciences                      10\n",
       "Agriculture & Natural Resources        10\n",
       "Social Science                          9\n",
       "Psychology & Social Work                9\n",
       "Arts                                    8\n",
       "Industrial Arts & Consumer Services     7\n",
       "Law & Public Policy                     5\n",
       "Communications & Journalism             4\n",
       "Interdisciplinary                       1\n",
       "Name: Major_Category, dtype: int64"
      ]
     },
     "execution_count": 23,
     "metadata": {},
     "output_type": "execute_result"
    }
   ],
   "source": [
    "#Examine the number of majors per major category\n",
    "majors_list['Major_Category'].value_counts()\n",
    "\n",
    "#majors_list[majors_list.Major_Category == 'Engineering']"
   ]
  },
  {
   "cell_type": "code",
   "execution_count": 39,
   "metadata": {},
   "outputs": [
    {
     "data": {
      "text/plain": [
       "Major\n",
       "MISCELLANEOUS FINE ARTS                                0.156147\n",
       "CLINICAL PSYCHOLOGY                                    0.102712\n",
       "MILITARY TECHNOLOGIES                                  0.101796\n",
       "SCHOOL STUDENT COUNSELING                              0.101746\n",
       "LIBRARY SCIENCE                                        0.094843\n",
       "VISUAL AND PERFORMING ARTS                             0.094658\n",
       "COMPUTER PROGRAMMING AND DATA PROCESSING               0.090264\n",
       "SOCIAL PSYCHOLOGY                                      0.087336\n",
       "ASTRONOMY AND ASTROPHYSICS                             0.086022\n",
       "ARCHITECTURE                                           0.085991\n",
       "FILM VIDEO AND PHOTOGRAPHIC ARTS                       0.085619\n",
       "COMMUNICATION TECHNOLOGIES                             0.085009\n",
       "STUDIO ARTS                                            0.083714\n",
       "INDUSTRIAL AND ORGANIZATIONAL PSYCHOLOGY               0.083629\n",
       "MASS MEDIA                                             0.083005\n",
       "MISCELLANEOUS PSYCHOLOGY                               0.082009\n",
       "LINGUISTICS AND COMPARATIVE LANGUAGE AND LITERATURE    0.081348\n",
       "DRAMA AND THEATER ARTS                                 0.080274\n",
       "PUBLIC POLICY                                          0.079217\n",
       "BIOMEDICAL ENGINEERING                                 0.079036\n",
       "ANTHROPOLOGY AND ARCHEOLOGY                            0.078176\n",
       "HUMANITIES                                             0.077844\n",
       "MULTI/INTERDISCIPLINARY STUDIES                        0.077269\n",
       "EDUCATIONAL PSYCHOLOGY                                 0.075631\n",
       "COMPUTER ADMINISTRATION MANAGEMENT AND SECURITY        0.075046\n",
       "PHILOSOPHY AND RELIGIOUS STUDIES                       0.075020\n",
       "INTERCULTURAL AND INTERNATIONAL STUDIES                0.074330\n",
       "COMMERCIAL ART AND GRAPHIC DESIGN                      0.073920\n",
       "COMPOSITION AND RHETORIC                               0.073615\n",
       "UNITED STATES HISTORY                                  0.073500\n",
       "                                                         ...   \n",
       "FORESTRY                                               0.042563\n",
       "THEOLOGY AND RELIGIOUS VOCATIONS                       0.042505\n",
       "PETROLEUM ENGINEERING                                  0.042205\n",
       "SCIENCE AND COMPUTER TEACHER EDUCATION                 0.042200\n",
       "AEROSPACE ENGINEERING                                  0.041971\n",
       "GENETICS                                               0.041591\n",
       "ART AND MUSIC EDUCATION                                0.040973\n",
       "NAVAL ARCHITECTURE AND MARINE ENGINEERING              0.040309\n",
       "MISCELLANEOUS AGRICULTURE                              0.039230\n",
       "MISCELLANEOUS EDUCATION                                0.039215\n",
       "PHYSICAL SCIENCES                                      0.038953\n",
       "ELEMENTARY EDUCATION                                   0.038359\n",
       "ATMOSPHERIC SCIENCES AND METEOROLOGY                   0.036726\n",
       "MEDICAL TECHNOLOGIES TECHNICIANS                       0.036210\n",
       "PHARMACY PHARMACEUTICAL SCIENCES AND ADMINISTRATION    0.034358\n",
       "BOTANY                                                 0.034024\n",
       "TEACHER EDUCATION: MULTIPLE LEVELS                     0.033357\n",
       "MATHEMATICS TEACHER EDUCATION                          0.032983\n",
       "PLANT SCIENCE AND AGRONOMY                             0.031791\n",
       "MEDICAL ASSISTING SERVICES                             0.031357\n",
       "AGRICULTURAL ECONOMICS                                 0.030248\n",
       "AGRICULTURE PRODUCTION AND MANAGEMENT                  0.028636\n",
       "NURSING                                                0.026797\n",
       "TREATMENT THERAPY PROFESSIONS                          0.026292\n",
       "GENERAL AGRICULTURE                                    0.026147\n",
       "MATHEMATICS AND COMPUTER SCIENCE                       0.024900\n",
       "MATERIALS SCIENCE                                      0.022333\n",
       "PHARMACOLOGY                                           0.016111\n",
       "EDUCATIONAL ADMINISTRATION AND SUPERVISION             0.000000\n",
       "GEOLOGICAL AND GEOPHYSICAL ENGINEERING                 0.000000\n",
       "Name: Unemployment_rate, Length: 173, dtype: float64"
      ]
     },
     "execution_count": 39,
     "metadata": {},
     "output_type": "execute_result"
    }
   ],
   "source": [
    "#Which major cateogry has the highest unemployment rates?\n",
    "all_ages.groupby('Major_category').Unemployment_rate.mean().sort_values(ascending=False)\n",
    "\n",
    "#Which specific major has the highest unemployment rate?\n",
    "all_ages.groupby('Major').Unemployment_rate.mean().sort_values(ascending=False)"
   ]
  },
  {
   "cell_type": "code",
   "execution_count": 49,
   "metadata": {},
   "outputs": [
    {
     "data": {
      "text/plain": [
       "Major_category\n",
       "Business                               9858741\n",
       "Education                              4700118\n",
       "Humanities & Liberal Arts              3738335\n",
       "Engineering                            3576013\n",
       "Health                                 2950859\n",
       "Social Science                         2654125\n",
       "Psychology & Social Work               1987278\n",
       "Arts                                   1805865\n",
       "Communications & Journalism            1803822\n",
       "Computers & Mathematics                1781378\n",
       "Biology & Life Science                 1338186\n",
       "Industrial Arts & Consumer Services    1033798\n",
       "Physical Sciences                      1025318\n",
       "Law & Public Policy                     902926\n",
       "Agriculture & Natural Resources         632437\n",
       "Interdisciplinary                        45199\n",
       "Name: Total, dtype: int64"
      ]
     },
     "execution_count": 49,
     "metadata": {},
     "output_type": "execute_result"
    }
   ],
   "source": [
    "#Which major category has the largest number of graduates?\n",
    "all_ages.groupby('Major_category').Total.sum().sort_values(ascending=False)"
   ]
  },
  {
   "cell_type": "code",
   "execution_count": 42,
   "metadata": {},
   "outputs": [
    {
     "data": {
      "text/plain": [
       "<matplotlib.axes._subplots.AxesSubplot at 0x28bc130eda0>"
      ]
     },
     "execution_count": 42,
     "metadata": {},
     "output_type": "execute_result"
    },
    {
     "data": {
      "image/png": "[encoded data removed]",
      "text/plain": [
       "<matplotlib.figure.Figure at 0x28bc12cbf60>"
      ]
     },
     "metadata": {},
     "output_type": "display_data"
    }
   ],
   "source": [
    "sns.barplot(x=\"Major\", y=\"Total\", data=all_ages)"
   ]
  }
 ],
 "metadata": {
  "kernelspec": {
   "display_name": "Python 3",
   "language": "python",
   "name": "python3"
  },
  "language_info": {
   "codemirror_mode": {
    "name": "ipython",
    "version": 3
   },
   "file_extension": ".py",
   "mimetype": "text/x-python",
   "name": "python",
   "nbconvert_exporter": "python",
   "pygments_lexer": "ipython3",
   "version": "3.6.3"
  }
 },
 "nbformat": 4,
 "nbformat_minor": 2
}
